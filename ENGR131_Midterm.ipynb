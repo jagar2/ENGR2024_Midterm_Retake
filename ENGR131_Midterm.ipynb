{
 "cells": [
  {
   "cell_type": "code",
   "execution_count": null,
   "metadata": {
    "deletable": false,
    "editable": false,
    "tags": [
     "skip-execution"
    ]
   },
   "outputs": [],
   "source": [
    "# Initialize Otter\n",
    "import otter\n",
    "grader = otter.Notebook(\"ENGR131_Midterm.ipynb\")"
   ]
  },
  {
   "attachments": {},
   "cell_type": "markdown",
   "metadata": {
    "editable": false
   },
   "source": [
    "# ⌛️ Midterm\n",
    "\n",
    "This midterm will assess your mastery of the course content in Weeks 1-4.\n",
    "\n",
    "\n",
    "## Instructions\n",
    "\n",
    "Note: For each question, your code should be indented under what is called the function definition: `def question_1():`. This helps the autograder run all the code you write by calling a single name. \n",
    "\n",
    "Note: Python cares about **Tabs**. Make sure spacing is correct in your functions. If you get an `Indention Error` it likely means your spacing is not correct. \n",
    "\n",
    "Your solution should look like this: \n",
    "\n",
    "```python\n",
    "# DO NOT ALTER lines of code defining the function\n",
    "def question ():\n",
    "    line1 = line1_code # line 1 of code\n",
    "    line2 = line2_code # line 2 of code\n",
    "\n",
    "    # DO NOT ALTER lines of code in the return statement\n",
    "    return x, y, z # variables to return separated by commas\n",
    "```\n",
    "\n",
    "**Your code replaces the prompt:  `...`**\n",
    "\n"
   ]
  },
  {
   "cell_type": "markdown",
   "metadata": {
    "editable": false
   },
   "source": [
    "## Part 1: Entering Your Information for Credit\n",
    "\n",
    "To receive credit for assignments, it is important we can identify your work from others. To do this, we will ask you to enter your information in the following code block.\n",
    "\n",
    "You must hit submit and see the message saying the data is saved. If you do not see this message contact your instructor to ensure you are getting credit for your work.\n",
    "\n",
    "**Note: do not delete the output.log file or the .responses.json file or you might lose your current work.**\n",
    "\n",
    "### Before you begin\n",
    "\n",
    "Run the block of code at the top of the notebook that imports and sets up the autograder. This will allow you to check your work. "
   ]
  },
  {
   "cell_type": "code",
   "execution_count": null,
   "metadata": {
    "tags": [
     "skip-execution"
    ]
   },
   "outputs": [],
   "source": [
    "from ENGR131_Util_2024 import StudentInfoForm\n",
    "from ENGR131_Util_2024 import responses\n",
    "from ENGR131_Util_2024 import engr131_midterm\n",
    "\n",
    "# Register the log function to be called before any cell is executed\n",
    "get_ipython().events.register('pre_run_cell', engr131_midterm)\n",
    "\n",
    "StudentInfoForm(**responses)"
   ]
  },
  {
   "cell_type": "markdown",
   "metadata": {
    "editable": false
   },
   "source": [
    "**Question 1: Identify python objects** \n",
    "*8 points*\n",
    "\n",
    "Please run the block of code below and respond to the prompts with the most suitable response. \n",
    "\n",
    "Make sure you hit the submit button or your grade will not be recorded. Confirmation that your responses are recorded will appear below the code block. We will only grade your most recent set of responses. You can submit entries as many times as you like. "
   ]
  },
  {
   "cell_type": "code",
   "execution_count": null,
   "metadata": {
    "tags": [
     "skip-execution"
    ]
   },
   "outputs": [],
   "source": [
    "from ENGR131_Util_2024 import DataTypes\n",
    "from ENGR131_Util_2024 import responses\n",
    "\n",
    "self = DataTypes(**responses)\n"
   ]
  },
  {
   "cell_type": "markdown",
   "metadata": {
    "editable": false
   },
   "source": [
    "**Question 2: Create logical statements** \n",
    "*9 points*\n",
    "\n",
    "Developing logical statements is essential to coding, especially controlling the flow of a program. \n",
    "\n",
    "Please run the block of code below and respond to the prompts with the most suitable response. \n",
    "\n",
    "Make sure you hit the submit button or your grade will not be recorded. Confirmation that your responses are recorded will appear below the code block. We will only grade your most recent set of responses. You can submit entries as many times as you like. "
   ]
  },
  {
   "cell_type": "code",
   "execution_count": null,
   "metadata": {
    "tags": [
     "skip-execution"
    ]
   },
   "outputs": [],
   "source": [
    "from ENGR131_Util_2024 import LogicalOperators\n",
    "from ENGR131_Util_2024 import responses\n",
    "\n",
    "logical_operators = LogicalOperators(**responses)"
   ]
  },
  {
   "cell_type": "markdown",
   "metadata": {
    "deletable": false,
    "editable": false
   },
   "source": [
    "**Question 3: Unit conversion with a dictionary** \n",
    "*10 points*\n",
    "\n",
    "As an engineer, you will often need to conduct unit conversions. For instance, a value measurement may be in feet that you need in inches or meters. \n",
    "\n",
    "A dictionary can be an efficient way to store conversion factors and access them for converting values from one unit to another. \n",
    "\n",
    "Write a function named `unit_conversion` that \n",
    "1. Does the conversion of the value and stores the result in a variable named `converted_value`.\n",
    "1. Uses the dictionary `conversion_factors` to print the value to two decimal places with the original units and the converted value to two decimal places with the converted units. \n",
    "\n",
    "For instance, the function should print the following for the test input included below:\n",
    "\n",
    "`10.00 meters is equal to 32.81 feet.`\n",
    "\n",
    "**Do not print any other statements or the autograder will not work.**"
   ]
  },
  {
   "cell_type": "code",
   "execution_count": null,
   "metadata": {
    "tags": [
     "skip-execution"
    ]
   },
   "outputs": [],
   "source": [
    "import numpy as np\n",
    "\n",
    "# define a function called unit_conversion to be used for grading\n",
    "def unit_conversion(value, from_unit, to_unit):\n",
    "    # Define conversion factors for common units\n",
    "    conversion_factors = {\n",
    "        # Length\n",
    "        'meters': {'meters': 1, 'feet': 3.28084, 'inches': 39.3701, 'centimeters': 100},\n",
    "        'feet': {'meters': 0.3048, 'feet': 1, 'inches': 12, 'centimeters': 30.48},\n",
    "        'inches': {'meters': 0.0254, 'feet': 0.0833333, 'inches': 1, 'centimeters': 2.54},\n",
    "        'centimeters': {'meters': 0.01, 'feet': 0.0328084, 'inches': 0.393701, 'centimeters': 1},\n",
    "        # Mass\n",
    "        'kilograms': {'kilograms': 1, 'pounds': 2.20462, 'grams': 1000},\n",
    "        'pounds': {'kilograms': 0.453592, 'pounds': 1, 'grams': 453.592},\n",
    "        'grams': {'kilograms': 0.001, 'pounds': 0.00220462, 'grams': 1},\n",
    "    }\n",
    "\n",
    "    # Check if the units are in the conversion factors dictionary\n",
    "    if from_unit in conversion_factors and to_unit in conversion_factors[from_unit]:\n",
    "    \n",
    "        ...\n",
    "    else:\n",
    "        print(\"Invalid units for conversion.\")\n",
    "        return None\n",
    "        \n",
    "    # The following line outputs the value from the function so that they can be accessed by the grader\n",
    "    return converted_value\n",
    "\n",
    "# Check the usage:\n",
    "value_to_convert = 10\n",
    "original_unit = 'meters'\n",
    "target_unit = 'feet'\n",
    "\n",
    "converted_value = unit_conversion(value_to_convert, original_unit, target_unit)"
   ]
  },
  {
   "cell_type": "code",
   "execution_count": null,
   "metadata": {
    "deletable": false,
    "editable": false,
    "tags": [
     "skip-execution"
    ]
   },
   "outputs": [],
   "source": [
    "grader.check(\"q3-unitConversion\")"
   ]
  },
  {
   "attachments": {},
   "cell_type": "markdown",
   "metadata": {
    "deletable": false,
    "editable": false
   },
   "source": [
    "**Question 4: Calculate the vertical component of a force** \n",
    "*10 points*\n",
    "\n",
    "Forces are often represented as vectors that can be broken down into horizontal and vertical components. The sine function is used when calculating the vertical component, especially when the force is applied at an angle.\n",
    "\n",
    "For example, if we have a force `F` applied at an angle `θ` (in degrees) to the horizontal, the vertical component of the force `F_vertical` can be calculated as:\n",
    "\n",
    "$$ F_{vertical} = F \\cdot \\sin(\\theta) $$\n",
    "\n",
    "Write python code to do the following inside the `question_4` function below:\n",
    "\n",
    "* Define the magnitude of the force, `F`, as 100 Newtons (with a DataType INT) and the angle, `theta`, as 78 degrees (with a DataType FLOAT).\n",
    "* Convert the angle `theta` to radians using the `math.radians` function because the `math.sin` function expects the angle in radians, save this to the variable `theta_radians`.\n",
    "* Calculate the vertical component of the force, `F_vertical`, in Newtons."
   ]
  },
  {
   "cell_type": "code",
   "execution_count": null,
   "metadata": {
    "tags": [
     "skip-execution"
    ]
   },
   "outputs": [],
   "source": [
    "import numpy as np\n",
    "import math\n",
    "\n",
    "# define a function called question_4 to be used for grading\n",
    "def question_4():\n",
    "\n",
    "    ...\n",
    "\n",
    "    # The following line outputs these values from the function so that they can be accessed by the grader\n",
    "    return F, theta, theta_radians, F_vertical\n",
    "\n",
    "F, theta, theta_radians, F_vertical = question_4()\n",
    "print(sum([F,theta, theta_radians, F_vertical]))"
   ]
  },
  {
   "cell_type": "code",
   "execution_count": null,
   "metadata": {
    "deletable": false,
    "editable": false,
    "tags": [
     "skip-execution"
    ]
   },
   "outputs": [],
   "source": [
    "grader.check(\"q4-forceVector\")"
   ]
  },
  {
   "attachments": {},
   "cell_type": "markdown",
   "metadata": {
    "deletable": false,
    "editable": false
   },
   "source": [
    "**Question 5: Using Python as a calculator** \n",
    "\n",
    "We have seen how Python can be used to evaluate mathematical expressions. This problem provides practice incorporating various mathematical functions and constants.  \n",
    "\n",
    "\n",
    "Write python code to do the following:\n",
    "\n",
    "* Define variables: `a = 3`, `b = -2`, and `x = 1`\n",
    "* For each of the quantities $E_0$ through $E_2$, construct a one-line Python expression that computes the value and assigns it to a variable. (You should perform your computations using the variable names $a$, $b$, and $c$ instead of their numerical values). In Python, we will use variable names `E0` through `E2` to store the values $E_0$ through $E_2$. Definitions of the variables `E0` through `E2` have been started for you in the template.\n",
    "\n",
    "$\\text{i.  } E_0 = ln(4a+b)$\n",
    "\n",
    "$\\text{ii.  } E_1 = \\cos \\left( \\left( \\frac{\\pi}{6a} \\right)^2 \\right)$\n",
    "\n",
    "$\\text{i.  } E_2 = \\sqrt{x^2+a^2+b^2}$\n",
    "\n",
    "You should use the `NumPy` library for the required mathematical functions. \n",
    "\n",
    "We have used the standard `NumPy` convention `import numpy as np`, thus, for example the `cos` function is used by typing `np.cos(<value>)`\n",
    "\n",
    "Again, your code should be indented under the function definition: `def question_5():`.\n",
    "\n",
    "Your code replaces the prompt:  `...`"
   ]
  },
  {
   "cell_type": "code",
   "execution_count": null,
   "metadata": {
    "tags": [
     "skip-execution"
    ]
   },
   "outputs": [],
   "source": [
    "# import the np library to be used\n",
    "import numpy as np\n",
    "\n",
    "# define a function called question_3 to be used for grading\n",
    "def question_5():\n",
    "\n",
    "    a = ...\n",
    "    b = ...\n",
    "    x = ...\n",
    "\n",
    "    E0 = ...\n",
    "    E1 = ...\n",
    "    E2 = ...\n",
    "\n",
    "    # output these values from the function so that they can be accessed by the grader\n",
    "    return a, b, x, E0, E1, E2"
   ]
  },
  {
   "cell_type": "code",
   "execution_count": null,
   "metadata": {
    "deletable": false,
    "editable": false,
    "tags": [
     "skip-execution"
    ]
   },
   "outputs": [],
   "source": [
    "grader.check(\"q5-calculator\")"
   ]
  },
  {
   "cell_type": "markdown",
   "metadata": {
    "deletable": false,
    "editable": false
   },
   "source": [
    "**Question 6: Analyzing Temperature Distribution Data** \n",
    "\n",
    "In thermal analysis, engineers often deal with temperature distribution across different materials or regions. For example, a mechanical engineer might analyze the temperature distribution across a metal plate, or a civil engineer might be interested in temperature variations across a building's surface.\n",
    "\n",
    "You are given a randomly-populated, two-dimensional array representing temperature data, `temperature_grid`, with a length of 6 in each dimension.\n",
    "\n",
    "Write Python code to do the following:\n",
    " * assign `specific_temperature` the temperature reading at the second row and fifth column.\n",
    " * assign `row_temperatures` the temperature readings in the fifth row.\n",
    " * assign `column_temperatures` the temperature readings in the second column.\n",
    " * assign `sub_matrix` the temperature readings in a 3 row by 2 column sub-matrix starting from the second row and third column.\n",
    "\n",
    "Your code should replace this prompt: ..."
   ]
  },
  {
   "cell_type": "code",
   "execution_count": null,
   "metadata": {
    "tags": [
     "skip-execution"
    ]
   },
   "outputs": [],
   "source": [
    "import numpy as np\n",
    " \n",
    "def question_6(seed=None):\n",
    "    # Set the seed for reproducibility, if provided\n",
    "    if seed is not None:\n",
    "        np.random.seed(seed)\n",
    " \n",
    "    # Generate a 6x6 grid of temperature readings\n",
    "    temperature_grid = np.random.rand(6, 6) \n",
    " \n",
    "    # Assign the temperature reading at the second row and fifth column\n",
    "    specific_temperature = ...\n",
    " \n",
    "    # Assign the temperature readings in the fifth row\n",
    "    row_temperatures = ...\n",
    " \n",
    "    # Assign the temperature readings in the second column\n",
    "    column_temperatures = ...\n",
    " \n",
    "    # Assign the temperature readings in a 3 row by 2 column sub-matrix\n",
    "    # starting from the second row and third column\n",
    "    sub_matrix = ...\n",
    " \n",
    "    return specific_temperature, row_temperatures, column_temperatures, sub_matrix\n"
   ]
  },
  {
   "cell_type": "code",
   "execution_count": null,
   "metadata": {
    "deletable": false,
    "editable": false,
    "tags": [
     "skip-execution"
    ]
   },
   "outputs": [],
   "source": [
    "grader.check(\"q6-sensor-selection\")"
   ]
  },
  {
   "cell_type": "markdown",
   "metadata": {
    "editable": false
   },
   "source": [
    "## Submitting Your Assignment\n",
    "\n",
    "To submit your assignment please use the following link the assignment on GitHub classroom.\n",
    "   \n",
    "Use this [link](https://classroom.github.com/a/JkkvD3eK) to navigate to the assignment on GitHub classroom.\n",
    "\n",
    "**Please submit just your output.log file. No other files are needed.**\n",
    "\n",
    "\n",
    "If you need further instructions on submitting your assignment, please ask your TA during lab. \n",
    "\n",
    "## Viewing your score\n",
    "\n",
    "Each `log` file you have uploaded will have a file with the name of your file + `Grade_Report.md`. You can view this file by clicking on the file name. This will show you the results of the autograder. \n",
    "\n",
    "**Make sure you run your code, and run the tests. If you do not run the test you will not get credit for your work.**\n",
    "\n",
    "```{note}\n",
    "In python and particularly jupyter notebooks it is common that during testing you run cells in a different order, or run cells and modify them. This can cause there to be local variables needed for your solution that would not be recreated on running your code again from scratch. Your assignment will be graded based on running your code from scratch. This means before you submit your assignment you should restart the kernel and run all cells. You can do this by clicking `Kernel` and selecting `Restart and Run All`. If you code does not run as expected after restarting the kernel and running all cells it means you have an error in your code. \n",
    "```\n",
    "\n",
    "## Fin"
   ]
  }
 ],
 "metadata": {
  "kernelspec": {
   "display_name": "base",
   "language": "python",
   "name": "python3"
  },
  "language_info": {
   "codemirror_mode": {
    "name": "ipython",
    "version": 3
   },
   "file_extension": ".py",
   "mimetype": "text/x-python",
   "name": "python",
   "nbconvert_exporter": "python",
   "pygments_lexer": "ipython3",
   "version": "3.10.13"
  },
  "otter": {
   "OK_FORMAT": true,
   "tests": {
    "q3-unitConversion": {
     "name": "q3-unitConversion",
     "points": 10,
     "suites": [
      {
       "cases": [
        {
         "code": ">>> import drexel_jupyter_logger\n>>> value_to_convert = 12\n>>> original_unit = 'meters'\n>>> target_unit = 'feet'\n>>> expected_output = drexel_jupyter_logger.decrypt_outputs('gAAAAABltVgJZoIAjULZM5ziXyLjuqhOWKak4onhEC1rOG_rTeZcjf1cD-cA0Q-g8qizRLRgdOAfxzRyxlrpTwXVeMinabTIR-lUvY0jUod1E44F2oH2F02qGhgXCvRvbi7vl64F_fe6')\n>>> from unittest.mock import patch\n>>> with patch('builtins.print') as mock_print:\n...     conversion = unit_conversion(value_to_convert, original_unit, target_unit)\n...     mock_print.assert_called_once_with(expected_output[:-1])\n>>> if mock_print.call_args[0][0] == expected_output[:-1]:\n...     drexel_jupyter_logger.variable_logger_csv('3, 3', 'q3_1')\n... else:\n...     drexel_jupyter_logger.variable_logger_csv('0, 3', 'q3_1')\n",
         "failure_message": "Variables incorrectly defined.",
         "hidden": false,
         "locked": false,
         "points": 3,
         "success_message": "Variables correctly defined."
        },
        {
         "code": ">>> import drexel_jupyter_logger\n>>> from unittest.mock import patch\n>>> value_to_convert = 15\n>>> original_unit = 'kilograms'\n>>> target_unit = 'pounds'\n>>> with patch('builtins.print') as mock_print:\n...     conversion = unit_conversion(value_to_convert, original_unit, target_unit)\n...     expected_output = drexel_jupyter_logger.decrypt_outputs('gAAAAABltVjOMtNIHXAQS0szhBAiLkYfz5rhyZuPO_7dbkP8uT2TVR9iD4fXn2-k1gjS8dYNSKzwML3abgNpbHa7lC6OciL_eBtTXYj8YLoXaA9hjc2dDjk3d0phENk2a5yy9ZD3Qcgf')\n...     mock_print.assert_called_once_with(expected_output[:-1])\n>>> if mock_print.call_args[0][0] == expected_output[:-1]:\n...     drexel_jupyter_logger.variable_logger_csv('5, 5', 'q3_2')\n... else:\n...     drexel_jupyter_logger.variable_logger_csv('0, 5', 'q3_2')\n",
         "failure_message": "Final answer is incorrect.",
         "hidden": false,
         "locked": false,
         "points": 5,
         "success_message": "Final answer is correct."
        },
        {
         "code": ">>> import drexel_jupyter_logger\n>>> from unittest.mock import patch\n>>> value_to_convert = 10\n>>> original_unit = 'invalid_unit'\n>>> target_unit = 'unknown_unit'\n>>> condition_to_check = True\n>>> expected_message = drexel_jupyter_logger.decrypt_outputs('gAAAAABltVo3gsLO9QaPGRMyLGs0uLtCX-9R1TGTVBxeQbKrzK8K4oxrH9RohAk7fcvpv4qFdHGSbCUv7tWT9VKrhZE_kpXn_tfviANrPlS0VZdeA1-SDIc=')\n>>> with patch('builtins.print') as mock_print:\n...     out = unit_conversion(value_to_convert, original_unit, target_unit)\n...     mock_print.assert_called_once_with(expected_message[:-1])\n>>> if mock_print.call_args[0][0] == expected_message[:-1]:\n...     drexel_jupyter_logger.variable_logger_csv('2, 2', 'q3_3')\n... else:\n...     drexel_jupyter_logger.variable_logger_csv('0, 2', 'q3_3')\n",
         "failure_message": "Final answer is incorrect.",
         "hidden": false,
         "locked": false,
         "points": 2,
         "success_message": "Final answer is correct."
        }
       ],
       "scored": true,
       "setup": "",
       "teardown": "",
       "type": "doctest"
      }
     ]
    },
    "q4-forceVector": {
     "name": "q4-forceVector",
     "points": 14,
     "suites": [
      {
       "cases": [
        {
         "code": ">>> import drexel_jupyter_logger\n>>> import math\n>>> (F, theta, theta_radians, F_vertical) = question_4()\n>>> assert F == int(drexel_jupyter_logger.decrypt_outputs('gAAAAABltV0uIP98o5gsJM8AdcMCRMVGLCgbVB4QCFNf7c_nEg2BLY9xscg2PIxhsRGvR5ogXPrTyikwljacjYmd1i5xqARsTw==')) and theta == float(drexel_jupyter_logger.decrypt_outputs('gAAAAABltV3MyiRNnJOHmaS4ATEEDZwGeGWI-Gqjbz1227PZKqpAZ9g4OE8i5mlvg7fZPyxvoIy0r-4DES4QFWg6tgX8rqn82g=='))\n>>> assert type(F) == int and type(theta) == float, 'DataTypes are not correct'\n>>> exec(drexel_jupyter_logger.decrypt_outputs('gAAAAABluqYq6OBrYmm4KT7izVpEJbIRhdCrtyaM-mi6wE3jEj2MpksuPw0srLjuGdDVK8--pqMmKl-PYRK95DnSQMmMscnynPP7-ZaBDplRHu1g-VkdUr19OjD-FihBj794BPtkKBEta4Cpim4QxEvS9zHK3SqBcxKDdplxlydP3-BpbRbXC_YMBp50G6pj44J99bonCYtsWSPch8IjsqQOJ8nt6k0MeJBI4JnIxITrGcmLGtpTjqU-Qc5kZHaV62vG9Zpzlibv4PK6TGoXRenjpm_yNtEH3Q=='))\n",
         "failure_message": "Variables incorrectly defined.",
         "hidden": false,
         "locked": false,
         "points": 5,
         "success_message": "Variables correctly defined."
        },
        {
         "code": ">>> import numpy as np\n>>> import drexel_jupyter_logger\n>>> (F, theta, theta_radians, F_vertical) = question_4()\n>>> value = float(drexel_jupyter_logger.decrypt_outputs('gAAAAABltV5yK5_Zr5VEAWOcL3nbPapn6Tf7l3wY-Sm3zIhvtydvp8sj5RbZwxisI5I6JEzA837dXywEWqQvPRj5Q3xiOnw2ocIwclYJ7bF9aTNAwLv6rz0='))\n>>> assert np.isclose(sum([F, theta, theta_radians, F_vertical]), value)\n>>> if np.isclose(sum([F, theta, theta_radians, F_vertical]), value):\n...     drexel_jupyter_logger.variable_logger_csv('7, 7', 'q4_2')\n... else:\n...     drexel_jupyter_logger.variable_logger_csv('0, 7', 'q4_2')\n",
         "failure_message": "Final answer is incorrect.",
         "hidden": false,
         "locked": false,
         "points": 9,
         "success_message": "Final answer is correct."
        }
       ],
       "scored": true,
       "setup": "",
       "teardown": "",
       "type": "doctest"
      }
     ]
    },
    "q5-calculator": {
     "name": "q5-calculator",
     "points": 15,
     "suites": [
      {
       "cases": [
        {
         "code": ">>> (a, b, x, E0, E1, E2) = question_5()\n>>> import drexel_jupyter_logger\n>>> exec(drexel_jupyter_logger.decrypt_outputs('gAAAAABltV_GTkae8Fu2ykIHvm5AjnLGuz7WqJSGkv-cgHe7UiIAEpzPUOmeoR11X_xIoUCvoXnktW0R6KApzd4pJkbfCBd6zfMF_OATzv38_xJWwu4uIN1Ge2R64Ef85FGMlNzm9lz9'))\n>>> exec(drexel_jupyter_logger.decrypt_outputs('gAAAAABluqaoGZJNEJJS4Y9M8FdWLk_9WyHuWS2sCeZ50J0Kot7EWQlw8ogR2_KG9-NUPeVMfZrwrZOnxkTzUpOT7tn4c4aoo73FKgaqMimeBRYhOLkXwTGz267D0IpacDyPFNbX8wQUu7OOVU8oMJ-HwjQIQyq5q0-cH_2l0Hg5ndye79SGONBtnmDYV-7J6MuQ66P5fl3_cGt9HRuoL_lBbBX1ZDeo-jmuWccfgNpvNoWIlon2ZURp-Mj7g9rVXBOrgBIenIBgpaspk56FudlajHCgzDWpJOtHyxiLP6PrJ1M4-6EYrPQ='))\n",
         "failure_message": "Variables incorrectly defined.",
         "hidden": false,
         "locked": false,
         "points": 3,
         "success_message": "Variables correctly defined."
        },
        {
         "code": ">>> import numpy as np\n>>> import drexel_jupyter_logger\n>>> (a, b, x, E0, E1, E2) = question_5()\n>>> value = float(drexel_jupyter_logger.decrypt_outputs('gAAAAABltWG2z_X2afxl_mwinnL59AtnZk0gwoe-1QX4fagphlvcVkwl-PTH_kJZyABdXNOLrWSJkdmdareYKiYHED2EbKx2AEI1dY5EV8WZc-eJlPWSYHc='))\n>>> assert np.isclose(sum([a, b, x, E0]), value)\n>>> if np.isclose(sum([a, b, x, E0]), value):\n...     drexel_jupyter_logger.variable_logger_csv('4, 4', 'q5_2')\n... else:\n...     drexel_jupyter_logger.variable_logger_csv('0, 4', 'q5_2')\n",
         "failure_message": "E0 answer incorrect.",
         "hidden": false,
         "locked": false,
         "points": 4,
         "success_message": "E0 answer correct."
        },
        {
         "code": ">>> import drexel_jupyter_logger\n>>> import numpy as np\n>>> (a, b, x, E0, E1, E2) = question_5()\n>>> value = float(drexel_jupyter_logger.decrypt_outputs('gAAAAABltWIsG_Z7exT1HiR31eMCs9VHYL24OIQCjcoZQsEimaOWgx1md1MEoUNr4oMY5AXtwVoGNhkKLH9r3l3_laduddxr_0ikjEEeT0LKVztBwRZznso='))\n>>> assert np.isclose(sum([a, b, x, E1]), value)\n>>> if np.isclose(sum([a, b, x, E1]), value):\n...     drexel_jupyter_logger.variable_logger_csv('4, 4', 'q5_3')\n... else:\n...     drexel_jupyter_logger.variable_logger_csv('0, 4', 'q5_3')\n",
         "failure_message": "E1 answer incorrect.",
         "hidden": false,
         "locked": false,
         "points": 4,
         "success_message": "E1 answer correct."
        },
        {
         "code": ">>> import drexel_jupyter_logger\n>>> import numpy as np\n>>> (a, b, x, E0, E1, E2) = question_5()\n>>> value = float(drexel_jupyter_logger.decrypt_outputs('gAAAAABltWLJdY__9xAY3fAwQStd08TJT3RQSHV84zEq1VO6jdT-EJPZVrqKBOwLEdpPmNuZC1yhh_yZz_lohrKhMFZ_-07cVn_5QgVIic1--ica0agi01o='))\n>>> assert np.isclose(sum([a, b, x, E2]), value)\n>>> if np.isclose(sum([a, b, x, E2]), value):\n...     drexel_jupyter_logger.variable_logger_csv('4, 4', 'q5_4')\n... else:\n...     drexel_jupyter_logger.variable_logger_csv('0, 4', 'q5_4')\n",
         "failure_message": "E2 answer incorrect.",
         "hidden": false,
         "locked": false,
         "points": 4,
         "success_message": "E2 answer correct."
        }
       ],
       "scored": true,
       "setup": "",
       "teardown": "",
       "type": "doctest"
      }
     ]
    },
    "q6-sensor-selection": {
     "name": "q6-sensor-selection",
     "points": 16,
     "suites": [
      {
       "cases": [
        {
         "code": ">>> import drexel_jupyter_logger\n>>> (specific_temperature, row_temperatures, column_temperatures, sub_matrix) = question_6(42)\n>>> assert type(specific_temperature) == np.float64\n>>> assert len(row_temperatures) == 6\n>>> assert len(column_temperatures) == 6\n>>> assert sub_matrix.shape == (3, 2)\n>>> if type(specific_temperature) == np.float64 and len(row_temperatures) == 6 and (len(column_temperatures) == 6) and (sub_matrix.shape == (3, 2)):\n...     drexel_jupyter_logger.variable_logger_csv('4, 4', 'q6_1')\n... else:\n...     drexel_jupyter_logger.variable_logger_csv('0, 4', 'q6_1')\n",
         "hidden": false,
         "locked": false,
         "points": 4,
         "success_message": "Function correctly returns types."
        },
        {
         "code": ">>> import drexel_jupyter_logger\n>>> (specific_temperature, row_temperatures, column_temperatures, sub_matrix) = question_6(42)\n>>> value = np.float32(drexel_jupyter_logger.decrypt_outputs('gAAAAABluqczpmrtih9-tXyof9yWCMDoFQSIrXI7hG5UfzfEOkPLNK8lA71Vz0gI0LW1cOos7o5MVDtvxKCmL0j7yQiz3Uixyt1GpV_yPYJokSs_YObnzzg='))\n>>> assert np.isclose(specific_temperature, value)\n>>> if np.isclose(specific_temperature, value):\n...     drexel_jupyter_logger.variable_logger_csv('3, 3', 'q6_2')\n... else:\n...     drexel_jupyter_logger.variable_logger_csv('0, 3', 'q6_2')\n",
         "hidden": false,
         "locked": false,
         "points": 3,
         "success_message": "specific_sensor_reading is correct."
        },
        {
         "code": ">>> import drexel_jupyter_logger\n>>> (specific_temperature, row_temperatures, column_temperatures, sub_matrix) = question_6(42)\n>>> value = np.float32(drexel_jupyter_logger.decrypt_outputs('gAAAAABluqeN0r0kLNRA4dIgCdJDHhgdBCFrZi5xgaqCzLyljmlwqbLmZwOesRPU5WJ0Xp3jMC2bj73OqSfRu8cuGaSQwiwF29S-VREEDBvMgK_wWUzj5k8='))\n>>> assert np.isclose(np.sum(row_temperatures), 2.5940191477640613)\n>>> if np.isclose(np.sum(row_temperatures), 2.5940191477640613):\n...     drexel_jupyter_logger.variable_logger_csv('3, 3', 'q6_3')\n... else:\n...     drexel_jupyter_logger.variable_logger_csv('0, 3', 'q6_3')\n",
         "hidden": false,
         "locked": false,
         "points": 3,
         "success_message": "row is correct."
        },
        {
         "code": ">>> import drexel_jupyter_logger\n>>> (specific_temperature, row_temperatures, column_temperatures, sub_matrix) = question_6(42)\n>>> value = np.float32(drexel_jupyter_logger.decrypt_outputs('gAAAAABluqe01srohfN8lNwhVJPKhLz6rA9ZR4Xs6BPMvo38JQl4GkZML7cGILxDoQnlRZoEfEPscS3OW3P-k8eHodIsImUNLmJz-pko_eJKPfCoGo1d8nU='))\n>>> assert np.isclose(np.sum(column_temperatures), value)\n>>> if np.isclose(np.sum(column_temperatures), value):\n...     drexel_jupyter_logger.variable_logger_csv('3, 3', 'q6_4')\n... else:\n...     drexel_jupyter_logger.variable_logger_csv('0, 3', 'q6_4')\n",
         "hidden": false,
         "locked": false,
         "points": 3,
         "success_message": "row is correct."
        },
        {
         "code": ">>> import drexel_jupyter_logger\n>>> (specific_temperature, row_temperatures, column_temperatures, sub_matrix) = question_6(42)\n>>> value = np.float32(drexel_jupyter_logger.decrypt_outputs('gAAAAABluqfmFxQiu701pbPjjBW5Hyifly7yIhuyZlY_P3HsqrwG4W1ISpJJ-oO5qUZrYZ9MACe1qGI6I8HyJY232jrUjlLYOXl5eKdGMVH_5SLHz6PpT4U='))\n>>> assert np.isclose(np.sum(sub_matrix), value)\n>>> if np.isclose(np.sum(sub_matrix), value):\n...     drexel_jupyter_logger.variable_logger_csv('3, 3', 'q6_5')\n... else:\n...     drexel_jupyter_logger.variable_logger_csv('0, 3', 'q6_5')\n",
         "hidden": false,
         "locked": false,
         "points": 3,
         "success_message": "row is correct."
        }
       ],
       "scored": true,
       "setup": "",
       "teardown": "",
       "type": "doctest"
      }
     ]
    }
   }
  },
  "varInspector": {
   "cols": {
    "lenName": 16,
    "lenType": 16,
    "lenVar": 40
   },
   "kernels_config": {
    "python": {
     "delete_cmd_postfix": "",
     "delete_cmd_prefix": "del ",
     "library": "var_list.py",
     "varRefreshCmd": "print(var_dic_list())"
    },
    "r": {
     "delete_cmd_postfix": ") ",
     "delete_cmd_prefix": "rm(",
     "library": "var_list.r",
     "varRefreshCmd": "cat(var_dic_list()) "
    }
   },
   "types_to_exclude": [
    "module",
    "function",
    "builtin_function_or_method",
    "instance",
    "_Feature"
   ],
   "window_display": false
  },
  "vscode": {
   "interpreter": {
    "hash": "d7d046052154998ca7dd3d9af52f7220fee50748c9a05b256540159ca8eb430c"
   }
  }
 },
 "nbformat": 4,
 "nbformat_minor": 4
}
